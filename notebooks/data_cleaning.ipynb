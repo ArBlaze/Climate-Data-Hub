{
 "cells": [
  {
   "cell_type": "markdown",
   "id": "4e0c2f8a",
   "metadata": {},
   "source": [
    "# 🌫️ Atmospheric CO₂ Data Cleaning & Preparation\n",
    "\n",
    "This notebook processes and enriches the **Mauna Loa daily atmospheric CO₂ dataset** from NOAA and Scripps. The goal is to prepare the data for visualization in Tableau and deeper analysis.\n",
    "\n",
    "---\n",
    "\n",
    "## 🧹 Data Cleaning Objectives\n",
    "\n",
    "- Load the raw daily CO₂ data from the NOAA `.txt` file\n",
    "- Parse and format the date fields correctly\n",
    "- Remove flagged or invalid entries (e.g., `-99.99` values)\n",
    "- Handle missing values using appropriate techniques (e.g., interpolation, rolling averages)\n",
    "- Standardize column names for clarity\n",
    "\n",
    "---\n",
    "\n",
    "## 🧪 Feature Engineering Plan\n",
    "\n",
    "We’ll create a variety of new features to support time-series analysis and storytelling:\n",
    "\n",
    "| Feature | Description |\n",
    "|--------|-------------|\n",
    "| `date`, `year`, `month`, `day`, `day_of_year` | Temporal breakdown |\n",
    "| `co2_30d_avg`, `co2_365d_avg` | Rolling averages to smooth trends |\n",
    "| `daily_diff`, `monthly_diff`, `pct_change` | Growth and rate-of-change metrics |\n",
    "| `anomaly_flag` | Outlier detection based on z-scores or thresholds |\n",
    "| `sin_day`, `cos_day` | Cyclical encodings for seasonality and radial plots |\n",
    "| `season` | Categorical: Winter, Spring, Summer, Fall |\n",
    "| `forecast` | Modeled prediction of future CO₂ levels |\n",
    "\n",
    "---\n",
    "\n",
    "## 📦 Output Files\n",
    "\n",
    "- `co2_with_features.csv` – Cleaned + engineered features for visualization\n",
    "\n",
    "---\n",
    "\n",
    "## 🛠️ Tools Used\n",
    "\n",
    "- `pandas` – Data manipulation\n",
    "- `numpy` – Numerical operations\n",
    "- `matplotlib / seaborn` – Data exploration\n",
    "- `datetime` – Date parsing and manipulation\n",
    "- `scipy` – Anomaly detection / z-score\n",
    "- `Prophet` - Forecasting\n",
    "---"
   ]
  },
  {
   "cell_type": "code",
   "execution_count": 2,
   "id": "ae23646c",
   "metadata": {},
   "outputs": [],
   "source": [
    "# 📦 Import standard libraries\n",
    "import pandas as pd\n",
    "import numpy as np\n",
    "from io import StringIO\n",
    "import requests\n",
    "import os\n",
    "from skmisc.loess import loess\n",
    "from scipy.stats import zscore\n",
    "from prophet import Prophet\n",
    "\n",
    "# 📊 (Optional) For quick visual checks\n",
    "import matplotlib.pyplot as plt\n",
    "import seaborn as sns\n",
    "\n",
    "# 📁 For handling Excel files (if needed)\n",
    "import openpyxl  # required for reading .xlsx files with pd.read_excel()\n",
    "\n",
    "# 🔧 Display options for better readability\n",
    "pd.set_option('display.max_columns', None)\n",
    "pd.set_option('display.max_rows', 100)\n"
   ]
  },
  {
   "cell_type": "code",
   "execution_count": 3,
   "id": "80b52cb1",
   "metadata": {},
   "outputs": [],
   "source": [
    "# It was quicker to clean up the data in Excel, so we'll skip through any cleaning and load in the csv into df\n",
    "df = pd.read_csv('../data/co2_daily_cleaned.csv', names = [\"year\", \"month\", \"day\", \"decimal\", \"co2_molfrac\"])\n"
   ]
  },
  {
   "cell_type": "code",
   "execution_count": 4,
   "id": "6eec1455",
   "metadata": {
    "scrolled": true
   },
   "outputs": [],
   "source": [
    "# Make a datetime column\n",
    "\n",
    "df['date'] = pd.to_datetime(df[['year', 'month', 'day']])\n"
   ]
  },
  {
   "cell_type": "code",
   "execution_count": 5,
   "id": "b3a1c674",
   "metadata": {},
   "outputs": [],
   "source": [
    "# Create day_of_year column\n",
    "\n",
    "df['day_of_year'] = df['date'].dt.dayofyear\n"
   ]
  },
  {
   "cell_type": "code",
   "execution_count": 6,
   "id": "70906ef6",
   "metadata": {},
   "outputs": [],
   "source": [
    "# Setting index to datetime column to calculate 30d/365d rolling averages for co2\n",
    "\n",
    "df.set_index('date', inplace=True)\n"
   ]
  },
  {
   "cell_type": "code",
   "execution_count": 7,
   "id": "95faf0a8",
   "metadata": {},
   "outputs": [],
   "source": [
    "# Add rolling 30d/365d rolling averages for co2\n",
    "\n",
    "df['co2_30d_avg'] = df[\"co2_molfrac\"].rolling(window='30D').mean().round(2)\n",
    "df['co2_365_avg'] = df[\"co2_molfrac\"].rolling(window='365D').mean().round(2)\n"
   ]
  },
  {
   "cell_type": "code",
   "execution_count": 8,
   "id": "7ad8ef35",
   "metadata": {
    "scrolled": false
   },
   "outputs": [],
   "source": [
    "# Add daily differences\n",
    "\n",
    "df['daily_diff'] = df['co2_molfrac'].diff()\n"
   ]
  },
  {
   "cell_type": "code",
   "execution_count": 9,
   "id": "dd4432c3",
   "metadata": {},
   "outputs": [],
   "source": [
    "# Add monthly differences\n",
    "monthly = df.resample('M').mean(numeric_only=True)\n",
    "monthly['monthly_diff'] = monthly['co2_molfrac'].diff().round(2)\n"
   ]
  },
  {
   "cell_type": "code",
   "execution_count": 10,
   "id": "5ad0b899",
   "metadata": {},
   "outputs": [],
   "source": [
    "# Create daily, and monthly, percentage change\n",
    "\n",
    "df['pct_change'] = df['co2_molfrac'].pct_change() * 100\n",
    "df['monthly_change'] = monthly['co2_molfrac'].pct_change() * 100"
   ]
  },
  {
   "cell_type": "code",
   "execution_count": 11,
   "id": "4b519ac0",
   "metadata": {
    "scrolled": true
   },
   "outputs": [],
   "source": [
    "# z-score calculation setup for anomaly detection\n",
    "\n",
    "df['z-score'] = zscore(df['co2_molfrac'])\n"
   ]
  },
  {
   "cell_type": "code",
   "execution_count": 12,
   "id": "c03453c1",
   "metadata": {},
   "outputs": [],
   "source": [
    "# Flag anomalies where z-score > 2\n",
    "\n",
    "df['anomaly_flag'] = (df['z-score']).abs() > 2\n"
   ]
  },
  {
   "cell_type": "code",
   "execution_count": 13,
   "id": "44c7b56f",
   "metadata": {},
   "outputs": [],
   "source": [
    "# polar coordinates so we can create seasonal/radial plots\n",
    "\n",
    "df['sin_day'] = np.sin((2*np.pi*df['day_of_year'])/365) # y value\n",
    "df['cos_day'] = np.cos((2*np.pi*df['day_of_year'])/365) # x value\n"
   ]
  },
  {
   "cell_type": "code",
   "execution_count": 14,
   "id": "2ddd0f94",
   "metadata": {},
   "outputs": [],
   "source": [
    "# Categorize dates by season\n",
    "# We'll use meteorlogical seasons since they are a little bit easier to work with\n",
    "\n",
    "def set_season(month):\n",
    "    \n",
    "    if (month == 12 or month == 1 or month == 2):\n",
    "        return \"Winter\"\n",
    "    elif (month == 3 or month == 4 or month == 5):\n",
    "        return \"Spring\"\n",
    "    elif (month == 6 or month == 7 or month == 8):\n",
    "        return \"Summer\"\n",
    "    else:\n",
    "        return \"Autumn\"\n",
    "\n",
    "df['season'] = df.index.to_series().dt.month.apply(set_season)"
   ]
  },
  {
   "cell_type": "code",
   "execution_count": 15,
   "id": "2bac98d4",
   "metadata": {},
   "outputs": [
    {
     "name": "stderr",
     "output_type": "stream",
     "text": [
      "14:16:56 - cmdstanpy - INFO - Chain [1] start processing\n",
      "14:17:03 - cmdstanpy - INFO - Chain [1] done processing\n"
     ]
    }
   ],
   "source": [
    "# co2 forecasting\n",
    "\n",
    "df_prophet = pd.DataFrame({\n",
    "    'ds': df.index,\n",
    "    'y': df['co2_molfrac'].values\n",
    "})\n",
    "\n",
    "model = Prophet(yearly_seasonality=True)\n",
    "model.fit(df_prophet)\n",
    "\n",
    "# Create future dates (e.g., next 10 years = 120 months)\n",
    "future = model.make_future_dataframe(periods=120, freq='M')\n",
    "\n",
    "# Predict future values\n",
    "forecast = model.predict(future)"
   ]
  },
  {
   "cell_type": "code",
   "execution_count": 16,
   "id": "fb412bad",
   "metadata": {},
   "outputs": [],
   "source": [
    "# Filter out dates so we only have forecasted data\n",
    "last_date = df_prophet['ds'].max()\n",
    "forecast_future = forecast[forecast['ds'] > last_date]"
   ]
  },
  {
   "cell_type": "code",
   "execution_count": 17,
   "id": "1f569474",
   "metadata": {},
   "outputs": [],
   "source": [
    "# Set index to date\n",
    "forecast_future = forecast_future.set_index('ds')"
   ]
  },
  {
   "cell_type": "code",
   "execution_count": 18,
   "id": "44664ae9",
   "metadata": {},
   "outputs": [],
   "source": [
    "# Loess smoothing on Day of year and Co2 molfrac\n",
    "\n",
    "df['co2_loess'] = None\n",
    "\n",
    "# Loop through each year and apply LOESS\n",
    "for year, group in df.groupby('year'):\n",
    "    x = group['day_of_year'].values\n",
    "    y = group['co2_molfrac'].values\n",
    "\n",
    "    model = loess(x, y, span=0.2, degree=1)\n",
    "    model.fit()\n",
    "    smoothed = model.predict(x).values\n",
    "\n",
    "    df.loc[group.index, 'co2_loess'] = smoothed"
   ]
  },
  {
   "cell_type": "code",
   "execution_count": 20,
   "id": "23f9e24b",
   "metadata": {},
   "outputs": [],
   "source": [
    "# Saving the dataframes we created\n",
    "monthly.to_csv('../data/monthly_features.csv', index=True)\n",
    "df.to_csv('../data/features.csv', index=True)\n",
    "forecast_future.to_csv('../data/forecast_future.csv', index=True)"
   ]
  },
  {
   "cell_type": "code",
   "execution_count": null,
   "id": "34f244a0",
   "metadata": {},
   "outputs": [],
   "source": []
  }
 ],
 "metadata": {
  "kernelspec": {
   "display_name": "Python 3 (ipykernel)",
   "language": "python",
   "name": "python3"
  },
  "language_info": {
   "codemirror_mode": {
    "name": "ipython",
    "version": 3
   },
   "file_extension": ".py",
   "mimetype": "text/x-python",
   "name": "python",
   "nbconvert_exporter": "python",
   "pygments_lexer": "ipython3",
   "version": "3.10.9"
  },
  "varInspector": {
   "cols": {
    "lenName": 16,
    "lenType": 16,
    "lenVar": 40
   },
   "kernels_config": {
    "python": {
     "delete_cmd_postfix": "",
     "delete_cmd_prefix": "del ",
     "library": "var_list.py",
     "varRefreshCmd": "print(var_dic_list())"
    },
    "r": {
     "delete_cmd_postfix": ") ",
     "delete_cmd_prefix": "rm(",
     "library": "var_list.r",
     "varRefreshCmd": "cat(var_dic_list()) "
    }
   },
   "types_to_exclude": [
    "module",
    "function",
    "builtin_function_or_method",
    "instance",
    "_Feature"
   ],
   "window_display": false
  }
 },
 "nbformat": 4,
 "nbformat_minor": 5
}
